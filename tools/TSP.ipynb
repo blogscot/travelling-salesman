{
 "cells": [
  {
   "cell_type": "code",
   "execution_count": 1,
   "metadata": {
    "collapsed": true,
    "nbpresent": {
     "id": "a5218090-5cc2-4097-8f09-25a12da4bc73"
    },
    "slideshow": {
     "slide_type": "slide"
    }
   },
   "outputs": [],
   "source": [
    "import os\n",
    "import re"
   ]
  },
  {
   "cell_type": "code",
   "execution_count": 2,
   "metadata": {
    "collapsed": false,
    "nbpresent": {
     "id": "c4fc2e6a-95d7-411f-b465-b72faccd8524"
    },
    "slideshow": {
     "slide_type": "slide"
    }
   },
   "outputs": [],
   "source": [
    "# reads lines from a text file given by filename\n",
    "def readlines(filename):\n",
    "    file = open(filename, \"r\")\n",
    "    return file.readlines()"
   ]
  },
  {
   "cell_type": "code",
   "execution_count": 3,
   "metadata": {
    "collapsed": false,
    "nbpresent": {
     "id": "d8cc5be9-406a-4ffd-b5a4-178657473ef2"
    },
    "slideshow": {
     "slide_type": "slide"
    }
   },
   "outputs": [],
   "source": [
    "def parse_generation_line(line):\n",
    "    regex = r\"(\\d+) generations\"\n",
    "    match = re.search(regex, line)\n",
    "    return match.group(1)"
   ]
  },
  {
   "cell_type": "code",
   "execution_count": 4,
   "metadata": {
    "collapsed": false,
    "nbpresent": {
     "id": "96eb23f0-8a2c-4238-b2b6-dd6ea67ff1a6"
    },
    "slideshow": {
     "slide_type": "slide"
    }
   },
   "outputs": [],
   "source": [
    "def parse_duration_line(line):\n",
    "    regex = r\"(\\d+\\.\\d+) seconds\"\n",
    "    match = re.search(regex, line)\n",
    "    return match.group(1)"
   ]
  },
  {
   "cell_type": "code",
   "execution_count": 5,
   "metadata": {
    "collapsed": true,
    "nbpresent": {
     "id": "a18e72a8-9254-413c-9920-9afe57999449"
    },
    "slideshow": {
     "slide_type": "slide"
    }
   },
   "outputs": [],
   "source": [
    "# log files have 2 intro lines, followed by\n",
    "# a generation count, and duration line\n",
    "\n",
    "lines_per_test = 30 * 2\n",
    "\n",
    "def process_test_log(lines, csv_file):\n",
    "    # Retain runs details\n",
    "    csv_file.write(lines[0])\n",
    "    csv_file.write(lines[1])\n",
    "    lines = lines[2:]\n",
    "\n",
    "    # write CSV headings\n",
    "    csv_file.write(\"generation,duration\\n\")\n",
    "\n",
    "    for i in range(0, lines_per_test, 2):\n",
    "        # generation = parse_generation_line(lines[i])\n",
    "        duration = parse_duration_line(lines[i+1])\n",
    "        # print('{}, {}'.format(generation, duration))\n",
    "        # csv_file.write('{}, {}\\n'.format(generation, duration))\n",
    "        csv_file.write('{}\\n'.format(duration))\n",
    "\n",
    "    # return unprocessed lines\n",
    "    return lines[lines_per_test:]"
   ]
  },
  {
   "cell_type": "code",
   "execution_count": 6,
   "metadata": {
    "collapsed": false,
    "nbpresent": {
     "id": "a9035265-bb58-4264-8667-f8bb2440967a"
    },
    "scrolled": true,
    "slideshow": {
     "slide_type": "slide"
    }
   },
   "outputs": [],
   "source": [
    "def create_csv_file(logfile):\n",
    "    prefix, suffix = logfile.split(\".\")\n",
    "    # print('prefix: {}\\nsuffix: {}'.format(prefix, suffix))    \n",
    "    \n",
    "    csv_filename = prefix + \".csv\"\n",
    "    csvfile = open(csv_filename, \"w\")\n",
    "    lines = readlines(logfile)\n",
    "\n",
    "    while (len(lines) > 0):\n",
    "        lines = process_test_log(lines, csvfile)\n",
    "\n",
    "    csvfile.close()"
   ]
  },
  {
   "cell_type": "code",
   "execution_count": 7,
   "metadata": {
    "collapsed": true,
    "slideshow": {
     "slide_type": "-"
    }
   },
   "outputs": [],
   "source": [
    "for file in os.listdir(\"./\"):\n",
    "    if file.endswith(\".log\"):\n",
    "        create_csv_file(file)"
   ]
  }
 ],
 "metadata": {
  "anaconda-cloud": {},
  "kernelspec": {
   "display_name": "Python [default]",
   "language": "python",
   "name": "python3"
  },
  "language_info": {
   "codemirror_mode": {
    "name": "ipython",
    "version": 3
   },
   "file_extension": ".py",
   "mimetype": "text/x-python",
   "name": "python",
   "nbconvert_exporter": "python",
   "pygments_lexer": "ipython3",
   "version": "3.5.2"
  },
  "nbpresent": {
   "slides": {
    "18ec9fef-5c7a-4dcc-8d62-1f4a55478a00": {
     "id": "18ec9fef-5c7a-4dcc-8d62-1f4a55478a00",
     "prev": null,
     "regions": {
      "def0793b-8cac-4368-a0d0-4f01758b1a5b": {
       "attrs": {
        "height": 0.8,
        "width": 0.8,
        "x": 0.1,
        "y": 0.1
       },
       "content": {
        "cell": "a5218090-5cc2-4097-8f09-25a12da4bc73",
        "part": "whole"
       },
       "id": "def0793b-8cac-4368-a0d0-4f01758b1a5b"
      }
     }
    },
    "2310f5cf-1a31-4969-8676-0c475c1750bf": {
     "id": "2310f5cf-1a31-4969-8676-0c475c1750bf",
     "prev": "92bba11c-c37d-4041-9ffd-ce75e81f8083",
     "regions": {
      "d94319aa-5d07-4b47-beb4-d4fd67000eee": {
       "attrs": {
        "height": 0.8,
        "width": 0.8,
        "x": 0.1,
        "y": 0.1
       },
       "content": {
        "cell": "1d31ab0f-42fe-4c2a-b512-9a960262bbc2",
        "part": "whole"
       },
       "id": "d94319aa-5d07-4b47-beb4-d4fd67000eee"
      }
     }
    },
    "273ad81a-8705-4db3-af81-567e689eb1bf": {
     "id": "273ad81a-8705-4db3-af81-567e689eb1bf",
     "prev": "2310f5cf-1a31-4969-8676-0c475c1750bf",
     "regions": {
      "7349f17c-0543-4e2a-963e-fd90cbafed03": {
       "attrs": {
        "height": 0.8,
        "width": 0.8,
        "x": 0.1,
        "y": 0.1
       },
       "content": {
        "cell": "94192911-0a75-4ccd-8066-c8177819baff",
        "part": "whole"
       },
       "id": "7349f17c-0543-4e2a-963e-fd90cbafed03"
      }
     }
    },
    "2e3ed2f8-06e4-41da-a081-dd55b10518c7": {
     "id": "2e3ed2f8-06e4-41da-a081-dd55b10518c7",
     "prev": "9c274f77-f805-432e-9018-b76ea0d61a50",
     "regions": {
      "ea077fb2-a822-4dac-afa4-63c37b53703d": {
       "attrs": {
        "height": 0.8,
        "width": 0.8,
        "x": 0.1,
        "y": 0.1
       },
       "content": {
        "cell": "d8cc5be9-406a-4ffd-b5a4-178657473ef2",
        "part": "whole"
       },
       "id": "ea077fb2-a822-4dac-afa4-63c37b53703d"
      }
     }
    },
    "2eb6e4a1-6ea0-43f4-8ba0-3e4bf250ca5f": {
     "id": "2eb6e4a1-6ea0-43f4-8ba0-3e4bf250ca5f",
     "prev": "2e3ed2f8-06e4-41da-a081-dd55b10518c7",
     "regions": {
      "b34766ae-8a23-4be3-99ad-96674e94ce17": {
       "attrs": {
        "height": 0.8,
        "width": 0.8,
        "x": 0.1,
        "y": 0.1
       },
       "content": {
        "cell": "96eb23f0-8a2c-4238-b2b6-dd6ea67ff1a6",
        "part": "whole"
       },
       "id": "b34766ae-8a23-4be3-99ad-96674e94ce17"
      }
     }
    },
    "8bab5208-679f-412a-8bcf-08a7bc2319cf": {
     "id": "8bab5208-679f-412a-8bcf-08a7bc2319cf",
     "prev": "2eb6e4a1-6ea0-43f4-8ba0-3e4bf250ca5f",
     "regions": {
      "bfa58d06-bfe7-4c9e-9438-ac1f081e41bf": {
       "attrs": {
        "height": 0.8,
        "width": 0.8,
        "x": 0.1,
        "y": 0.1
       },
       "content": {
        "cell": "a18e72a8-9254-413c-9920-9afe57999449",
        "part": "whole"
       },
       "id": "bfa58d06-bfe7-4c9e-9438-ac1f081e41bf"
      }
     }
    },
    "92bba11c-c37d-4041-9ffd-ce75e81f8083": {
     "id": "92bba11c-c37d-4041-9ffd-ce75e81f8083",
     "prev": "8bab5208-679f-412a-8bcf-08a7bc2319cf",
     "regions": {
      "3c019f86-5ba0-4075-93a6-acb4adc34833": {
       "attrs": {
        "height": 0.8,
        "width": 0.8,
        "x": 0.1,
        "y": 0.1
       },
       "content": {
        "cell": "a9035265-bb58-4264-8667-f8bb2440967a",
        "part": "whole"
       },
       "id": "3c019f86-5ba0-4075-93a6-acb4adc34833"
      }
     }
    },
    "9c274f77-f805-432e-9018-b76ea0d61a50": {
     "id": "9c274f77-f805-432e-9018-b76ea0d61a50",
     "prev": "18ec9fef-5c7a-4dcc-8d62-1f4a55478a00",
     "regions": {
      "32720068-e91a-4325-b8fb-4d4df6de1153": {
       "attrs": {
        "height": 0.8,
        "width": 0.8,
        "x": 0.1,
        "y": 0.1
       },
       "content": {
        "cell": "c4fc2e6a-95d7-411f-b465-b72faccd8524",
        "part": "whole"
       },
       "id": "32720068-e91a-4325-b8fb-4d4df6de1153"
      }
     }
    }
   },
   "themes": {}
  }
 },
 "nbformat": 4,
 "nbformat_minor": 1
}
